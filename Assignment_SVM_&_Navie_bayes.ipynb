{
  "nbformat": 4,
  "nbformat_minor": 0,
  "metadata": {
    "colab": {
      "provenance": []
    },
    "kernelspec": {
      "name": "python3",
      "display_name": "Python 3"
    },
    "language_info": {
      "name": "python"
    }
  },
  "cells": [
    {
      "cell_type": "markdown",
      "source": [
        "Theoretical Questions and Answers"
      ],
      "metadata": {
        "id": "iixGvl0g2OH6"
      }
    },
    {
      "cell_type": "markdown",
      "source": [
        "# 1. What is a Support Vector Machine (SVM) ?\n",
        "  - A Support Vector Machine (SVM) is a supervised learning algorithm used for classification and regression tasks. It finds the optimal hyperplane that maximally separates data points of different classes.\n",
        "\n",
        "\n",
        "\n",
        "\n",
        "# 2. What is the difference between Hard Margin and Soft Margin SVM ?\n",
        "  - Hard Margin SVM: No misclassification allowed; only works with linearly separable data.\n",
        "\n",
        "  - Soft Margin SVM: Allows some misclassification using a penalty (C parameter) to handle non-linearly separable data.\n",
        "\n",
        "\n",
        "\n",
        "\n",
        "# 3. What is the mathematical intuition behind SVM ?\n",
        "  - Maximize the margin between the hyperplane and the nearest data points (support vectors).\n",
        "\n",
        "  - Solve:\n",
        "    - Minimize  ½‖w‖²\n",
        "    - Subject to yᵢ(w·xᵢ + b) ≥ 1 (for all i)\n",
        "\n",
        "  - For soft margin:\n",
        "    - Minimize  ½‖w‖² + C∑ξᵢ\n",
        "    - Subject to yᵢ(w·xᵢ + b) ≥ 1 - ξᵢ, ξᵢ ≥ 0\n",
        "\n",
        "\n",
        "\n",
        "\n",
        "\n",
        "# 4. What is the role of Lagrange Multipliers in SVM ?\n",
        "  - Lagrange multipliers convert the constrained optimization problem of SVM into its dual form, allowing use of the kernel trick and easier computation. They help identify support vectors (where multipliers > 0).\n",
        "\n",
        "\n",
        "\n",
        "# 5. What are Support Vectors in SVM ?\n",
        "  - Support Vectors are the data points that lie closest to the decision boundary (hyperplane) and directly influence its position and orientation.\n",
        "\n",
        "\n",
        "\n",
        "# 6. What is a Support Vector Classifier (SVC) ?\n",
        "  - Support Vector Classifier (SVC) is the soft-margin version of SVM used for classification tasks, allowing some misclassifications to handle non-linearly separable data.\n",
        "\n",
        "\n",
        "\n",
        "\n",
        "# 7. What is a Support Vector Regressor (SVR) ?\n",
        "  - Support Vector Regressor (SVR) is the regression version of SVM that tries to fit the best line (or curve) within a margin of tolerance (ε) while minimizing errors outside it.\n",
        "\n",
        "\n",
        "\n",
        "# 8. What is the Kernel Trick in SVM ?\n",
        "  - The Kernel Trick maps input data into a higher-dimensional space using a kernel function, allowing SVM to find a linear separator in that space without explicitly computing the transformation.\n",
        "\n",
        "\n",
        "\n",
        "\n",
        "# 9. Compare Linear Kernel, Polynomial Kernel, and RBF Kernel.\n",
        "  - Linear Kernel: Best for linearly separable data; fast and simple.\n",
        "  - Polynomial Kernel: Captures polynomial relationships; degree controls complexity.\n",
        "  - RBF Kernel: Handles non-linear data well; uses a Gaussian function; controlled by γ (gamma).\n",
        "\n",
        "\n",
        "\n",
        "\n",
        "# 10. What is the effect of the C parameter in SVM ?\n",
        "  - C controls the trade-off between margin width and classification error:\n",
        "\n",
        "     - High C: Less tolerance for misclassification (harder margin), smaller margin.\n",
        "     - Low C: More tolerance for misclassification (softer margin), wider margin.\n",
        "\n",
        "\n",
        "\n",
        "\n",
        "# 11. What is the role of the Gamma parameter in RBF Kernel SVM ?\n",
        "  - Gamma (γ) defines the influence range of a single training example:\n",
        "    \n",
        "    - High γ: Close influence, more complex decision boundary (risk of overfitting).\n",
        "    - Low γ: Far influence, smoother decision boundary (risk of underfitting).\n",
        "\n",
        "\n",
        "\n",
        "\n",
        "# 12. What is the Naïve Bayes classifier, and why is it called \"Naïve\" ?\n",
        "  - Naïve Bayes classifier is a probabilistic classifier based on Bayes’ theorem, assuming feature independence given the class.\n",
        "  \n",
        "  - It's called \"Naïve\" because it naively assumes features are independent, which is rarely true in real data.\n",
        "\n",
        "\n",
        "\n",
        "\n",
        "\n",
        "# 13. What is Bayes’ Theorem ?\n",
        "  - Bayes’ Theorem updates the probability of a hypothesis (A) based on new evidence (B):\n",
        "\n",
        "    - P(A): Prior probability of A\n",
        "    - P(B|A): Likelihood of observing B if A is true\n",
        "    - P(B): Total probability of B\n",
        "    - P(A|B): Posterior probability of A given B (updated belief)\n",
        "\n",
        "  - It’s used to revise predictions as new data comes in.\n",
        "\n",
        "\n",
        "\n",
        "\n",
        "# 14. Explain the differences between Gaussian Naïve Bayes, Multinomial Naïve Bayes, and Bernoulli Naïve Bayes.\n",
        "  - Gaussian Naïve Bayes: Assumes continuous features follow a Gaussian (normal) distribution.\n",
        "\n",
        "  - Multinomial Naïve Bayes: Used for discrete count data (e.g., word counts in text).\n",
        "\n",
        "  - Bernoulli Naïve Bayes: Works with binary/boolean features (presence/absence).\n",
        "\n",
        "\n",
        "\n",
        "\n",
        "\n",
        "# 15. When should you use Gaussian Naïve Bayes over other variants ?\n",
        "  - Use Gaussian Naïve Bayes when your features are continuous and approximately normally distributed.\n",
        "\n",
        "\n",
        "\n",
        "\n",
        "# 16. What are the key assumptions made by Naïve Bayes ?\n",
        "  - Features are conditionally independent given the class.\n",
        "\n",
        "  - Each feature follows a specific distribution (e.g., Gaussian for continuous, Multinomial for counts, Bernoulli for binary).\n",
        "\n",
        "\n",
        "\n",
        "\n",
        "# 17. What are the advantages and disadvantages of Naïve Bayes ?\n",
        "  - Advantages:\n",
        "    - Fast and simple\n",
        "    - Works well with high-dimensional data\n",
        "    - Requires small training data\n",
        "\n",
        "  - Disadvantages:\n",
        "    - Assumes feature independence (rarely true)\n",
        "    - Poor performance if features are strongly correlated\n",
        "    - Zero probability problem (can be fixed with smoothing)\n",
        "\n",
        "\n",
        "\n",
        "\n",
        "# 18. Why is Naïve Bayes a good choice for text classification ?\n",
        "  - Handles high-dimensional data efficiently.\n",
        "  - Works well with word frequency features (Multinomial NB).\n",
        "  - Fast to train and predict.\n",
        "  - Performs well even with small training sets.\n",
        "\n",
        "\n",
        "\n",
        "\n",
        "# 19. Compare SVM and Naïve Bayes for classification tasks ?\n",
        "  - SVM\n",
        "    \n",
        "    - Model Type:- Margin-based, discriminative\n",
        "    - Assumptions:- No strong feature independence\n",
        "    - Handles Non-linearity:- Yes, via kernels\n",
        "    - Training Speed:- Slower on large datasets\n",
        "    - Performance:- High with well-tuned parameters\n",
        "    - Robustness:- Sensitive to noisy data\n",
        "\n",
        "  - Naïve Bayes\n",
        "\n",
        "    - Model Type:- Probabilistic, generative\n",
        "    - Assumptions:- Assumes feature independence\n",
        "    - Handles Non-linearity:- Limited, depends on data distribution\n",
        "    - Training Speed:- Very fast\n",
        "    - Performance:- Good for text and small data\n",
        "    - Robustness:- More robust to noise\n",
        "\n",
        "\n",
        "\n",
        "\n",
        "# 20. How does Laplace Smoothing help in Naïve Bayes ?\n",
        "  - Laplace smoothing adds a small constant (usually 1) to feature counts to avoid zero probabilities for unseen features during training.\n",
        "\n",
        "\n",
        "\n"
      ],
      "metadata": {
        "id": "ihd3WTjB2j_R"
      }
    },
    {
      "cell_type": "markdown",
      "source": [
        "Practical Questions and Answers"
      ],
      "metadata": {
        "id": "CqrWL1MP7zwX"
      }
    },
    {
      "cell_type": "code",
      "source": [
        "# 21. Write a Python program to train an SVM Classifier on the Iris dataset and evaluate accuracy.\n",
        "\n",
        "from sklearn import datasets\n",
        "from sklearn.model_selection import train_test_split\n",
        "from sklearn.svm import SVC\n",
        "from sklearn.metrics import accuracy_score\n",
        "\n",
        "# Load Iris dataset\n",
        "iris = datasets.load_iris()\n",
        "X, y = iris.data, iris.target\n",
        "\n",
        "# Split data\n",
        "X_train, X_test, y_train, y_test = train_test_split(X, y, test_size=0.3, random_state=42)\n",
        "\n",
        "# Train SVM classifier\n",
        "svm = SVC()\n",
        "svm.fit(X_train, y_train)\n",
        "\n",
        "# Predict and evaluate\n",
        "y_pred = svm.predict(X_test)\n",
        "accuracy = accuracy_score(y_test, y_pred)\n",
        "print(f\"Accuracy: {accuracy:.2f}\")\n"
      ],
      "metadata": {
        "colab": {
          "base_uri": "https://localhost:8080/"
        },
        "id": "jTjCwJQd739T",
        "outputId": "ba8d5f22-ede0-4bdd-d1a3-eb83265e4027"
      },
      "execution_count": 1,
      "outputs": [
        {
          "output_type": "stream",
          "name": "stdout",
          "text": [
            "Accuracy: 1.00\n"
          ]
        }
      ]
    },
    {
      "cell_type": "code",
      "source": [
        "# 22. Write a Python program to train two SVM classifiers with Linear and RBF kernels on the Wine dataset, then compare their accuracies.\n",
        "\n",
        "from sklearn import datasets\n",
        "from sklearn.model_selection import train_test_split\n",
        "from sklearn.svm import SVC\n",
        "from sklearn.metrics import accuracy_score\n",
        "\n",
        "# Load Wine dataset\n",
        "wine = datasets.load_wine()\n",
        "X, y = wine.data, wine.target\n",
        "\n",
        "# Split data\n",
        "X_train, X_test, y_train, y_test = train_test_split(X, y, test_size=0.3, random_state=42)\n",
        "\n",
        "# Train SVM with Linear kernel\n",
        "svm_linear = SVC(kernel='linear')\n",
        "svm_linear.fit(X_train, y_train)\n",
        "y_pred_linear = svm_linear.predict(X_test)\n",
        "acc_linear = accuracy_score(y_test, y_pred_linear)\n",
        "\n",
        "# Train SVM with RBF kernel\n",
        "svm_rbf = SVC(kernel='rbf')\n",
        "svm_rbf.fit(X_train, y_train)\n",
        "y_pred_rbf = svm_rbf.predict(X_test)\n",
        "acc_rbf = accuracy_score(y_test, y_pred_rbf)\n",
        "\n",
        "print(f\"Linear Kernel Accuracy: {acc_linear:.2f}\")\n",
        "print(f\"RBF Kernel Accuracy: {acc_rbf:.2f}\")\n"
      ],
      "metadata": {
        "colab": {
          "base_uri": "https://localhost:8080/"
        },
        "id": "BMaJ6l4y8Dkh",
        "outputId": "9b7a78c5-eeff-4816-9c5d-f039fda8d2a1"
      },
      "execution_count": 2,
      "outputs": [
        {
          "output_type": "stream",
          "name": "stdout",
          "text": [
            "Linear Kernel Accuracy: 0.98\n",
            "RBF Kernel Accuracy: 0.76\n"
          ]
        }
      ]
    },
    {
      "cell_type": "code",
      "source": [
        "# 23. Write a Python program to train an SVM Regressor (SVR) on a housing dataset and evaluate it using Mean Squared Error (MSE).\n",
        "\n",
        "from sklearn.datasets import fetch_california_housing\n",
        "from sklearn.model_selection import train_test_split\n",
        "from sklearn.svm import SVR\n",
        "from sklearn.metrics import mean_squared_error\n",
        "\n",
        "# Load California housing dataset\n",
        "housing = fetch_california_housing()\n",
        "X, y = housing.data, housing.target\n",
        "\n",
        "# Split data\n",
        "X_train, X_test, y_train, y_test = train_test_split(X, y, test_size=0.3, random_state=42)\n",
        "\n",
        "# Train SVR\n",
        "svr = SVR()\n",
        "svr.fit(X_train, y_train)\n",
        "\n",
        "# Predict and evaluate\n",
        "y_pred = svr.predict(X_test)\n",
        "mse = mean_squared_error(y_test, y_pred)\n",
        "print(f\"Mean Squared Error: {mse:.4f}\")\n",
        "\n"
      ],
      "metadata": {
        "colab": {
          "base_uri": "https://localhost:8080/"
        },
        "id": "U0_zJvC48RMS",
        "outputId": "7728a75b-ecea-4ac4-9df2-8fbc4dcbe436"
      },
      "execution_count": 4,
      "outputs": [
        {
          "output_type": "stream",
          "name": "stdout",
          "text": [
            "Mean Squared Error: 1.3490\n"
          ]
        }
      ]
    },
    {
      "cell_type": "code",
      "source": [
        "# 24. Write a Python program to train an SVM Classifier with a Polynomial Kernel and visualize the decision boundary.\n",
        "\n",
        "import numpy as np\n",
        "import matplotlib.pyplot as plt\n",
        "from sklearn import datasets\n",
        "from sklearn.svm import SVC\n",
        "from sklearn.preprocessing import StandardScaler\n",
        "\n",
        "# Load dataset (use only 2 features for 2D visualization)\n",
        "iris = datasets.load_iris()\n",
        "X = iris.data[:, :2]\n",
        "y = iris.target\n",
        "\n",
        "# For binary classification, keep only 2 classes\n",
        "X = X[y != 2]\n",
        "y = y[y != 2]\n",
        "\n",
        "# Feature scaling\n",
        "scaler = StandardScaler()\n",
        "X_scaled = scaler.fit_transform(X)\n",
        "\n",
        "# Train SVM with Polynomial kernel\n",
        "svm_poly = SVC(kernel='poly', degree=3, C=1)\n",
        "svm_poly.fit(X_scaled, y)\n",
        "\n",
        "# Create mesh grid for plotting decision boundary\n",
        "x_min, x_max = X_scaled[:, 0].min() - 1, X_scaled[:, 0].max() + 1\n",
        "y_min, y_max = X_scaled[:, 1].min() - 1, X_scaled[:, 1].max() + 1\n",
        "xx, yy = np.meshgrid(np.linspace(x_min, x_max, 500),\n",
        "                     np.linspace(y_min, y_max, 500))\n",
        "\n",
        "# Predict on mesh grid\n",
        "Z = svm_poly.predict(np.c_[xx.ravel(), yy.ravel()])\n",
        "Z = Z.reshape(xx.shape)\n",
        "\n",
        "# Plot decision boundary and data points\n",
        "plt.contourf(xx, yy, Z, alpha=0.3, cmap=plt.cm.coolwarm)\n",
        "plt.scatter(X_scaled[:, 0], X_scaled[:, 1], c=y, cmap=plt.cm.coolwarm, edgecolors='k')\n",
        "plt.title(\"SVM with Polynomial Kernel (degree=3)\")\n",
        "plt.xlabel(\"Feature 1 (scaled)\")\n",
        "plt.ylabel(\"Feature 2 (scaled)\")\n",
        "plt.show()\n"
      ],
      "metadata": {
        "colab": {
          "base_uri": "https://localhost:8080/",
          "height": 472
        },
        "id": "Ez9xIJYC8dDw",
        "outputId": "3359ed53-edcf-4082-e473-cf12cdf51a83"
      },
      "execution_count": 5,
      "outputs": [
        {
          "output_type": "display_data",
          "data": {
            "text/plain": [
              "<Figure size 640x480 with 1 Axes>"
            ],
            "image/png": "[encoded data removed]"
          },
          "metadata": {}
        }
      ]
    },
    {
      "cell_type": "code",
      "source": [
        "# 25. Write a Python program to train a Gaussian Naïve Bayes classifier on the Breast Cancer dataset and evaluate accuracy.\n",
        "\n",
        "from sklearn.datasets import load_breast_cancer\n",
        "from sklearn.model_selection import train_test_split\n",
        "from sklearn.naive_bayes import GaussianNB\n",
        "from sklearn.metrics import accuracy_score\n",
        "\n",
        "# Load Breast Cancer dataset\n",
        "data = load_breast_cancer()\n",
        "X, y = data.data, data.target\n",
        "\n",
        "# Split data\n",
        "X_train, X_test, y_train, y_test = train_test_split(X, y, test_size=0.3, random_state=42)\n",
        "\n",
        "# Train Gaussian Naïve Bayes\n",
        "gnb = GaussianNB()\n",
        "gnb.fit(X_train, y_train)\n",
        "\n",
        "# Predict and evaluate\n",
        "y_pred = gnb.predict(X_test)\n",
        "accuracy = accuracy_score(y_test, y_pred)\n",
        "print(f\"Accuracy: {accuracy:.2f}\")\n"
      ],
      "metadata": {
        "colab": {
          "base_uri": "https://localhost:8080/"
        },
        "id": "OVCfNTLl9DD4",
        "outputId": "eb1273fd-5294-44ac-8d17-1f49553926a5"
      },
      "execution_count": 6,
      "outputs": [
        {
          "output_type": "stream",
          "name": "stdout",
          "text": [
            "Accuracy: 0.94\n"
          ]
        }
      ]
    },
    {
      "cell_type": "code",
      "source": [
        "# 26. Write a Python program to train a Multinomial Naïve Bayes classifier for text classification using the 20 Newsgroups dataset.\n",
        "\n",
        "from sklearn.datasets import fetch_20newsgroups\n",
        "from sklearn.feature_extraction.text import CountVectorizer\n",
        "from sklearn.model_selection import train_test_split\n",
        "from sklearn.naive_bayes import MultinomialNB\n",
        "from sklearn.metrics import accuracy_score\n",
        "\n",
        "# Load 20 Newsgroups dataset (subset: train and test)\n",
        "newsgroups_train = fetch_20newsgroups(subset='train', remove=('headers','footers','quotes'))\n",
        "newsgroups_test = fetch_20newsgroups(subset='test', remove=('headers','footers','quotes'))\n",
        "\n",
        "# Vectorize text data (convert text to count vectors)\n",
        "vectorizer = CountVectorizer(stop_words='english')\n",
        "X_train = vectorizer.fit_transform(newsgroups_train.data)\n",
        "X_test = vectorizer.transform(newsgroups_test.data)\n",
        "\n",
        "# Labels\n",
        "y_train = newsgroups_train.target\n",
        "y_test = newsgroups_test.target\n",
        "\n",
        "# Train Multinomial Naive Bayes\n",
        "mnb = MultinomialNB()\n",
        "mnb.fit(X_train, y_train)\n",
        "\n",
        "# Predict and evaluate\n",
        "y_pred = mnb.predict(X_test)\n",
        "accuracy = accuracy_score(y_test, y_pred)\n",
        "print(f\"Accuracy: {accuracy:.2f}\")\n"
      ],
      "metadata": {
        "colab": {
          "base_uri": "https://localhost:8080/"
        },
        "id": "imOd7QN39NPK",
        "outputId": "f1f84e91-b7b0-4033-9f06-fc4c729f6e1d"
      },
      "execution_count": 7,
      "outputs": [
        {
          "output_type": "stream",
          "name": "stdout",
          "text": [
            "Accuracy: 0.63\n"
          ]
        }
      ]
    },
    {
      "cell_type": "code",
      "source": [
        "# 27. Write a Python program to train an SVM Classifier with different C values and compare the decision boundaries visually.\n",
        "\n",
        "import numpy as np\n",
        "import matplotlib.pyplot as plt\n",
        "from sklearn import datasets\n",
        "from sklearn.svm import SVC\n",
        "from sklearn.preprocessing import StandardScaler\n",
        "\n",
        "# Load dataset (2 features for 2D plotting)\n",
        "iris = datasets.load_iris()\n",
        "X = iris.data[:, :2]\n",
        "y = iris.target\n",
        "\n",
        "# Binary classification (two classes)\n",
        "X = X[y != 2]\n",
        "y = y[y != 2]\n",
        "\n",
        "# Scale features\n",
        "scaler = StandardScaler()\n",
        "X_scaled = scaler.fit_transform(X)\n",
        "\n",
        "# Prepare mesh grid\n",
        "x_min, x_max = X_scaled[:, 0].min() - 1, X_scaled[:, 0].max() + 1\n",
        "y_min, y_max = X_scaled[:, 1].min() - 1, X_scaled[:, 1].max() + 1\n",
        "xx, yy = np.meshgrid(np.linspace(x_min, x_max, 500),\n",
        "                     np.linspace(y_min, y_max, 500))\n",
        "\n",
        "# Different C values\n",
        "C_values = [0.1, 1, 10]\n",
        "plt.figure(figsize=(15, 4))\n",
        "\n",
        "for i, C in enumerate(C_values):\n",
        "    svm = SVC(kernel='linear', C=C)\n",
        "    svm.fit(X_scaled, y)\n",
        "    Z = svm.predict(np.c_[xx.ravel(), yy.ravel()])\n",
        "    Z = Z.reshape(xx.shape)\n",
        "\n",
        "    plt.subplot(1, 3, i+1)\n",
        "    plt.contourf(xx, yy, Z, alpha=0.3, cmap=plt.cm.coolwarm)\n",
        "    plt.scatter(X_scaled[:, 0], X_scaled[:, 1], c=y, cmap=plt.cm.coolwarm, edgecolors='k')\n",
        "    plt.title(f\"SVM Decision Boundary (C={C})\")\n",
        "    plt.xlabel(\"Feature 1 (scaled)\")\n",
        "    plt.ylabel(\"Feature 2 (scaled)\")\n",
        "\n",
        "plt.tight_layout()\n",
        "plt.show()\n"
      ],
      "metadata": {
        "colab": {
          "base_uri": "https://localhost:8080/",
          "height": 320
        },
        "id": "AskNyL5L9WwD",
        "outputId": "9ed34a20-700a-4fdd-ff36-a89211c74e20"
      },
      "execution_count": 8,
      "outputs": [
        {
          "output_type": "display_data",
          "data": {
            "text/plain": [
              "<Figure size 1500x400 with 3 Axes>"
            ],
            "image/png": "[encoded data removed]"
          },
          "metadata": {}
        }
      ]
    },
    {
      "cell_type": "code",
      "source": [
        "# 28. Write a Python program to train a Bernoulli Naïve Bayes classifier for binary classification on a dataset with binary features.\n",
        "\n",
        "from sklearn.datasets import make_classification\n",
        "from sklearn.model_selection import train_test_split\n",
        "from sklearn.naive_bayes import BernoulliNB\n",
        "from sklearn.metrics import accuracy_score\n",
        "\n",
        "# Generate synthetic binary feature dataset\n",
        "X, y = make_classification(n_samples=1000, n_features=20, n_informative=10,\n",
        "                           n_redundant=0, n_classes=2, random_state=42)\n",
        "\n",
        "# Binarize features (convert to 0/1)\n",
        "X_binary = (X > 0).astype(int)\n",
        "\n",
        "# Split data\n",
        "X_train, X_test, y_train, y_test = train_test_split(X_binary, y, test_size=0.3, random_state=42)\n",
        "\n",
        "# Train Bernoulli Naive Bayes\n",
        "bnb = BernoulliNB()\n",
        "bnb.fit(X_train, y_train)\n",
        "\n",
        "# Predict and evaluate\n",
        "y_pred = bnb.predict(X_test)\n",
        "accuracy = accuracy_score(y_test, y_pred)\n",
        "print(f\"Accuracy: {accuracy:.2f}\")\n"
      ],
      "metadata": {
        "colab": {
          "base_uri": "https://localhost:8080/"
        },
        "id": "neBXnbTo-AeS",
        "outputId": "ed26b4ee-0c5f-4c6c-8d78-3062bb8e3b9c"
      },
      "execution_count": 9,
      "outputs": [
        {
          "output_type": "stream",
          "name": "stdout",
          "text": [
            "Accuracy: 0.73\n"
          ]
        }
      ]
    },
    {
      "cell_type": "code",
      "source": [
        "# 29. Write a Python program to apply feature scaling before training an SVM model and compare results with unscaled data.\n",
        "\n",
        "from sklearn import datasets\n",
        "from sklearn.model_selection import train_test_split\n",
        "from sklearn.svm import SVC\n",
        "from sklearn.preprocessing import StandardScaler\n",
        "from sklearn.metrics import accuracy_score\n",
        "\n",
        "# Load dataset\n",
        "iris = datasets.load_iris()\n",
        "X, y = iris.data, iris.target\n",
        "\n",
        "# Split data\n",
        "X_train, X_test, y_train, y_test = train_test_split(X, y, test_size=0.3, random_state=42)\n",
        "\n",
        "# --- Without scaling ---\n",
        "svm_unscaled = SVC()\n",
        "svm_unscaled.fit(X_train, y_train)\n",
        "y_pred_unscaled = svm_unscaled.predict(X_test)\n",
        "acc_unscaled = accuracy_score(y_test, y_pred_unscaled)\n",
        "\n",
        "# --- With scaling ---\n",
        "scaler = StandardScaler()\n",
        "X_train_scaled = scaler.fit_transform(X_train)\n",
        "X_test_scaled = scaler.transform(X_test)\n",
        "\n",
        "svm_scaled = SVC()\n",
        "svm_scaled.fit(X_train_scaled, y_train)\n",
        "y_pred_scaled = svm_scaled.predict(X_test_scaled)\n",
        "acc_scaled = accuracy_score(y_test, y_pred_scaled)\n",
        "\n",
        "print(f\"Accuracy without scaling: {acc_unscaled:.2f}\")\n",
        "print(f\"Accuracy with scaling: {acc_scaled:.2f}\")\n"
      ],
      "metadata": {
        "colab": {
          "base_uri": "https://localhost:8080/"
        },
        "id": "eohi0N5j-Kb3",
        "outputId": "4048ba47-3c50-4c1d-eecf-a24ba06bd0e1"
      },
      "execution_count": 10,
      "outputs": [
        {
          "output_type": "stream",
          "name": "stdout",
          "text": [
            "Accuracy without scaling: 1.00\n",
            "Accuracy with scaling: 1.00\n"
          ]
        }
      ]
    },
    {
      "cell_type": "code",
      "source": [
        "# 30. Write a Python program to train a Gaussian Naïve Bayes model and compare the predictions before and after Laplace Smoothing.\n",
        "\n",
        "from sklearn.datasets import fetch_20newsgroups\n",
        "from sklearn.feature_extraction.text import CountVectorizer\n",
        "from sklearn.model_selection import train_test_split\n",
        "from sklearn.naive_bayes import MultinomialNB\n",
        "from sklearn.metrics import accuracy_score\n",
        "\n",
        "# Load subset of 20 Newsgroups dataset for speed\n",
        "categories = ['alt.atheism', 'sci.space']\n",
        "newsgroups = fetch_20newsgroups(subset='all', categories=categories, remove=('headers', 'footers', 'quotes'))\n",
        "\n",
        "# Vectorize text to count features\n",
        "vectorizer = CountVectorizer(stop_words='english')\n",
        "X = vectorizer.fit_transform(newsgroups.data)\n",
        "y = newsgroups.target\n",
        "\n",
        "# Split data\n",
        "X_train, X_test, y_train, y_test = train_test_split(X, y, test_size=0.3, random_state=42)\n",
        "\n",
        "# Train without Laplace smoothing (alpha=0)\n",
        "mnb_no_smooth = MultinomialNB(alpha=0)\n",
        "mnb_no_smooth.fit(X_train, y_train)\n",
        "y_pred_no_smooth = mnb_no_smooth.predict(X_test)\n",
        "acc_no_smooth = accuracy_score(y_test, y_pred_no_smooth)\n",
        "\n",
        "# Train with Laplace smoothing (alpha=1)\n",
        "mnb_smooth = MultinomialNB(alpha=1)\n",
        "mnb_smooth.fit(X_train, y_train)\n",
        "y_pred_smooth = mnb_smooth.predict(X_test)\n",
        "acc_smooth = accuracy_score(y_test, y_pred_smooth)\n",
        "\n",
        "print(f\"Accuracy without Laplace smoothing (alpha=0): {acc_no_smooth:.2f}\")\n",
        "print(f\"Accuracy with Laplace smoothing (alpha=1): {acc_smooth:.2f}\")\n"
      ],
      "metadata": {
        "colab": {
          "base_uri": "https://localhost:8080/"
        },
        "id": "biXOG6bk-XA2",
        "outputId": "acb1973b-358b-4370-ebc0-93195ba6750b"
      },
      "execution_count": 11,
      "outputs": [
        {
          "output_type": "stream",
          "name": "stdout",
          "text": [
            "Accuracy without Laplace smoothing (alpha=0): 0.50\n",
            "Accuracy with Laplace smoothing (alpha=1): 0.94\n"
          ]
        },
        {
          "output_type": "stream",
          "name": "stderr",
          "text": [
            "/usr/local/lib/python3.11/dist-packages/sklearn/naive_bayes.py:898: RuntimeWarning: divide by zero encountered in log\n",
            "  self.feature_log_prob_ = np.log(smoothed_fc) - np.log(\n"
          ]
        }
      ]
    },
    {
      "cell_type": "code",
      "source": [
        "# 31. Write a Python program to train an SVM Classifier and use GridSearchCV to tune the hyperparameters (C, gamma, kernel).\n",
        "\n",
        "from sklearn import datasets\n",
        "from sklearn.model_selection import train_test_split, GridSearchCV\n",
        "from sklearn.svm import SVC\n",
        "from sklearn.metrics import accuracy_score\n",
        "\n",
        "# Load dataset\n",
        "iris = datasets.load_iris()\n",
        "X, y = iris.data, iris.target\n",
        "\n",
        "# Split data\n",
        "X_train, X_test, y_train, y_test = train_test_split(X, y, test_size=0.3, random_state=42)\n",
        "\n",
        "# Define SVM and parameter grid\n",
        "svm = SVC()\n",
        "param_grid = {\n",
        "    'C': [0.1, 1, 10],\n",
        "    'gamma': ['scale', 'auto'],\n",
        "    'kernel': ['linear', 'rbf', 'poly']\n",
        "}\n",
        "\n",
        "# GridSearchCV\n",
        "grid = GridSearchCV(svm, param_grid, cv=5, n_jobs=-1)\n",
        "grid.fit(X_train, y_train)\n",
        "\n",
        "# Best params and accuracy\n",
        "best_params = grid.best_params_\n",
        "y_pred = grid.predict(X_test)\n",
        "accuracy = accuracy_score(y_test, y_pred)\n",
        "\n",
        "print(f\"Best hyperparameters: {best_params}\")\n",
        "print(f\"Test set accuracy: {accuracy:.2f}\")\n"
      ],
      "metadata": {
        "colab": {
          "base_uri": "https://localhost:8080/"
        },
        "id": "D8Ng8f-k-vpG",
        "outputId": "cfd7f95a-4b36-4e7d-f25e-519cc47ba55f"
      },
      "execution_count": 12,
      "outputs": [
        {
          "output_type": "stream",
          "name": "stdout",
          "text": [
            "Best hyperparameters: {'C': 1, 'gamma': 'scale', 'kernel': 'poly'}\n",
            "Test set accuracy: 0.98\n"
          ]
        }
      ]
    },
    {
      "cell_type": "code",
      "source": [
        "# 32. Write a Python program to train an SVM Classifier on an imbalanced dataset and apply class weighting and check it improve accuracy\n",
        "\n",
        "from sklearn.datasets import make_classification\n",
        "from sklearn.model_selection import train_test_split\n",
        "from sklearn.svm import SVC\n",
        "from sklearn.metrics import classification_report, accuracy_score\n",
        "\n",
        "# Create imbalanced dataset\n",
        "X, y = make_classification(n_classes=2, class_sep=2,\n",
        "                           weights=[0.9, 0.1], n_samples=1000, random_state=42)\n",
        "\n",
        "# Split data\n",
        "X_train, X_test, y_train, y_test = train_test_split(X, y, test_size=0.3, random_state=42)\n",
        "\n",
        "# Train without class weights\n",
        "svm_no_weights = SVC()\n",
        "svm_no_weights.fit(X_train, y_train)\n",
        "y_pred_no_weights = svm_no_weights.predict(X_test)\n",
        "acc_no_weights = accuracy_score(y_test, y_pred_no_weights)\n",
        "\n",
        "# Train with class weights\n",
        "svm_weights = SVC(class_weight='balanced')\n",
        "svm_weights.fit(X_train, y_train)\n",
        "y_pred_weights = svm_weights.predict(X_test)\n",
        "acc_weights = accuracy_score(y_test, y_pred_weights)\n",
        "\n",
        "print(f\"Accuracy without class weights: {acc_no_weights:.2f}\")\n",
        "print(f\"Accuracy with class weights: {acc_weights:.2f}\")\n",
        "\n",
        "print(\"\\nClassification report with class weights:\")\n",
        "print(classification_report(y_test, y_pred_weights))\n"
      ],
      "metadata": {
        "colab": {
          "base_uri": "https://localhost:8080/"
        },
        "id": "3kT84ZI-_LcI",
        "outputId": "8186ecec-1d77-42fc-d8fe-b78dc31ac043"
      },
      "execution_count": 13,
      "outputs": [
        {
          "output_type": "stream",
          "name": "stdout",
          "text": [
            "Accuracy without class weights: 0.98\n",
            "Accuracy with class weights: 0.98\n",
            "\n",
            "Classification report with class weights:\n",
            "              precision    recall  f1-score   support\n",
            "\n",
            "           0       0.99      0.99      0.99       270\n",
            "           1       0.87      0.90      0.89        30\n",
            "\n",
            "    accuracy                           0.98       300\n",
            "   macro avg       0.93      0.94      0.94       300\n",
            "weighted avg       0.98      0.98      0.98       300\n",
            "\n"
          ]
        }
      ]
    },
    {
      "cell_type": "code",
      "source": [
        "# 33. Write a Python program to implement a Naïve Bayes classifier for spam detection using email data.\n",
        "\n",
        "from sklearn.model_selection import train_test_split\n",
        "from sklearn.feature_extraction.text import CountVectorizer, TfidfTransformer\n",
        "from sklearn.naive_bayes import MultinomialNB\n",
        "from sklearn.metrics import accuracy_score, classification_report\n",
        "\n",
        "# Example spam/ham email dataset (simplified)\n",
        "# In practice, load a real dataset like the SpamAssassin or SMS Spam Collection\n",
        "\n",
        "emails = [\n",
        "    \"Congratulations! You've won a free lottery ticket\",\n",
        "    \"Please call me back\",\n",
        "    \"Limited time offer, buy now!\",\n",
        "    \"Are we meeting today?\",\n",
        "    \"Cheap meds available, order today\",\n",
        "    \"Let's have lunch tomorrow\",\n",
        "    \"You have been selected for a prize\",\n",
        "    \"Can you send me the report?\",\n",
        "    \"Earn money quickly with this simple trick\",\n",
        "    \"How was your weekend?\"\n",
        "]\n",
        "\n",
        "labels = [1, 0, 1, 0, 1, 0, 1, 0, 1, 0]  # 1 = spam, 0 = ham\n",
        "\n",
        "# Split data\n",
        "X_train, X_test, y_train, y_test = train_test_split(emails, labels, test_size=0.3, random_state=42)\n",
        "\n",
        "# Convert text to count vectors, then to TF-IDF\n",
        "count_vect = CountVectorizer()\n",
        "X_train_counts = count_vect.fit_transform(X_train)\n",
        "\n",
        "tfidf_transformer = TfidfTransformer()\n",
        "X_train_tfidf = tfidf_transformer.fit_transform(X_train_counts)\n",
        "\n",
        "# Train Multinomial Naive Bayes\n",
        "clf = MultinomialNB()\n",
        "clf.fit(X_train_tfidf, y_train)\n",
        "\n",
        "# Transform test data\n",
        "X_test_counts = count_vect.transform(X_test)\n",
        "X_test_tfidf = tfidf_transformer.transform(X_test_counts)\n",
        "\n",
        "# Predict and evaluate\n",
        "y_pred = clf.predict(X_test_tfidf)\n",
        "print(f\"Accuracy: {accuracy_score(y_test, y_pred):.2f}\")\n",
        "print(\"\\nClassification Report:\")\n",
        "print(classification_report(y_test, y_pred))\n"
      ],
      "metadata": {
        "colab": {
          "base_uri": "https://localhost:8080/"
        },
        "id": "Qxw1A3zS_VrT",
        "outputId": "a72b6d64-a99f-42e7-c25c-12ccb45219a6"
      },
      "execution_count": 14,
      "outputs": [
        {
          "output_type": "stream",
          "name": "stdout",
          "text": [
            "Accuracy: 0.67\n",
            "\n",
            "Classification Report:\n",
            "              precision    recall  f1-score   support\n",
            "\n",
            "           0       1.00      0.50      0.67         2\n",
            "           1       0.50      1.00      0.67         1\n",
            "\n",
            "    accuracy                           0.67         3\n",
            "   macro avg       0.75      0.75      0.67         3\n",
            "weighted avg       0.83      0.67      0.67         3\n",
            "\n"
          ]
        }
      ]
    },
    {
      "cell_type": "code",
      "source": [
        "# 34. Write a Python program to train an SVM Classifier and a Naïve Bayes Classifier on the same dataset and compare their accuracy\n",
        "\n",
        "from sklearn import datasets\n",
        "from sklearn.model_selection import train_test_split\n",
        "from sklearn.svm import SVC\n",
        "from sklearn.naive_bayes import GaussianNB\n",
        "from sklearn.metrics import accuracy_score\n",
        "\n",
        "# Load dataset\n",
        "iris = datasets.load_iris()\n",
        "X, y = iris.data, iris.target\n",
        "\n",
        "# Split data\n",
        "X_train, X_test, y_train, y_test = train_test_split(X, y, test_size=0.3, random_state=42)\n",
        "\n",
        "# Train SVM classifier\n",
        "svm = SVC()\n",
        "svm.fit(X_train, y_train)\n",
        "y_pred_svm = svm.predict(X_test)\n",
        "acc_svm = accuracy_score(y_test, y_pred_svm)\n",
        "\n",
        "# Train Gaussian Naive Bayes classifier\n",
        "gnb = GaussianNB()\n",
        "gnb.fit(X_train, y_train)\n",
        "y_pred_gnb = gnb.predict(X_test)\n",
        "acc_gnb = accuracy_score(y_test, y_pred_gnb)\n",
        "\n",
        "print(f\"SVM Accuracy: {acc_svm:.2f}\")\n",
        "print(f\"Naive Bayes Accuracy: {acc_gnb:.2f}\")\n"
      ],
      "metadata": {
        "colab": {
          "base_uri": "https://localhost:8080/"
        },
        "id": "V0Ma1A2e_gU2",
        "outputId": "6fd2d32d-8015-4b8a-b87f-bec320e1e73f"
      },
      "execution_count": 15,
      "outputs": [
        {
          "output_type": "stream",
          "name": "stdout",
          "text": [
            "SVM Accuracy: 1.00\n",
            "Naive Bayes Accuracy: 0.98\n"
          ]
        }
      ]
    },
    {
      "cell_type": "code",
      "source": [
        "# 35. Write a Python program to perform feature selection before training a Naïve Bayes classifier and compare results\n",
        "\n",
        "from sklearn.datasets import load_breast_cancer\n",
        "from sklearn.feature_selection import SelectKBest, chi2\n",
        "from sklearn.model_selection import train_test_split\n",
        "from sklearn.naive_bayes import GaussianNB\n",
        "from sklearn.metrics import accuracy_score\n",
        "\n",
        "# Load dataset\n",
        "data = load_breast_cancer()\n",
        "X, y = data.data, data.target\n",
        "\n",
        "# Split data\n",
        "X_train, X_test, y_train, y_test = train_test_split(X, y, test_size=0.3, random_state=42)\n",
        "\n",
        "# --- Without feature selection ---\n",
        "gnb = GaussianNB()\n",
        "gnb.fit(X_train, y_train)\n",
        "y_pred = gnb.predict(X_test)\n",
        "acc_without_fs = accuracy_score(y_test, y_pred)\n",
        "\n",
        "# --- With feature selection (SelectKBest) ---\n",
        "selector = SelectKBest(score_func=chi2, k=10)\n",
        "X_train_fs = selector.fit_transform(X_train, y_train)\n",
        "X_test_fs = selector.transform(X_test)\n",
        "\n",
        "gnb_fs = GaussianNB()\n",
        "gnb_fs.fit(X_train_fs, y_train)\n",
        "y_pred_fs = gnb_fs.predict(X_test_fs)\n",
        "acc_with_fs = accuracy_score(y_test, y_pred_fs)\n",
        "\n",
        "print(f\"Accuracy without feature selection: {acc_without_fs:.2f}\")\n",
        "print(f\"Accuracy with feature selection: {acc_with_fs:.2f}\")\n"
      ],
      "metadata": {
        "colab": {
          "base_uri": "https://localhost:8080/"
        },
        "id": "LIvHckzq_o7g",
        "outputId": "c4e9a680-1a94-42ea-d21f-29e7ecb7611a"
      },
      "execution_count": 16,
      "outputs": [
        {
          "output_type": "stream",
          "name": "stdout",
          "text": [
            "Accuracy without feature selection: 0.94\n",
            "Accuracy with feature selection: 0.95\n"
          ]
        }
      ]
    },
    {
      "cell_type": "code",
      "source": [
        "# 36. Write a Python program to train an SVM Classifier using One-vs-Rest (OvR) and One-vs-One (OvO) strategies on the Wine dataset and compare their accuracy.\n",
        "\n",
        "from sklearn import datasets\n",
        "from sklearn.model_selection import train_test_split\n",
        "from sklearn.svm import SVC\n",
        "from sklearn.multiclass import OneVsRestClassifier, OneVsOneClassifier\n",
        "from sklearn.metrics import accuracy_score\n",
        "\n",
        "# Load dataset\n",
        "wine = datasets.load_wine()\n",
        "X, y = wine.data, wine.target\n",
        "\n",
        "# Split data\n",
        "X_train, X_test, y_train, y_test = train_test_split(X, y, test_size=0.3, random_state=42)\n",
        "\n",
        "# OvR strategy\n",
        "ovr = OneVsRestClassifier(SVC(kernel='linear', random_state=42))\n",
        "ovr.fit(X_train, y_train)\n",
        "y_pred_ovr = ovr.predict(X_test)\n",
        "acc_ovr = accuracy_score(y_test, y_pred_ovr)\n",
        "\n",
        "# OvO strategy\n",
        "ovo = OneVsOneClassifier(SVC(kernel='linear', random_state=42))\n",
        "ovo.fit(X_train, y_train)\n",
        "y_pred_ovo = ovo.predict(X_test)\n",
        "acc_ovo = accuracy_score(y_test, y_pred_ovo)\n",
        "\n",
        "print(f\"One-vs-Rest Accuracy: {acc_ovr:.2f}\")\n",
        "print(f\"One-vs-One Accuracy: {acc_ovo:.2f}\")\n"
      ],
      "metadata": {
        "colab": {
          "base_uri": "https://localhost:8080/"
        },
        "id": "6K8qFgJd_2gB",
        "outputId": "1cb3102d-a37a-42c5-9401-39d04f0bdd69"
      },
      "execution_count": 17,
      "outputs": [
        {
          "output_type": "stream",
          "name": "stdout",
          "text": [
            "One-vs-Rest Accuracy: 0.98\n",
            "One-vs-One Accuracy: 0.98\n"
          ]
        }
      ]
    },
    {
      "cell_type": "code",
      "source": [
        "# 37. Write a Python program to train an SVM Classifier using Linear, Polynomial, and RBF kernels on the Breast Cancer dataset and compare their accuracy.\n",
        "\n",
        "from sklearn import datasets\n",
        "from sklearn.model_selection import train_test_split\n",
        "from sklearn.svm import SVC\n",
        "from sklearn.metrics import accuracy_score\n",
        "\n",
        "# Load dataset\n",
        "data = datasets.load_breast_cancer()\n",
        "X, y = data.data, data.target\n",
        "\n",
        "# Split data\n",
        "X_train, X_test, y_train, y_test = train_test_split(X, y, test_size=0.3, random_state=42)\n",
        "\n",
        "# Kernels to compare\n",
        "kernels = ['linear', 'poly', 'rbf']\n",
        "accuracies = {}\n",
        "\n",
        "for kernel in kernels:\n",
        "    svm = SVC(kernel=kernel, random_state=42)\n",
        "    svm.fit(X_train, y_train)\n",
        "    y_pred = svm.predict(X_test)\n",
        "    accuracies[kernel] = accuracy_score(y_test, y_pred)\n",
        "\n",
        "for kernel, acc in accuracies.items():\n",
        "    print(f\"{kernel.capitalize()} Kernel Accuracy: {acc:.2f}\")\n"
      ],
      "metadata": {
        "colab": {
          "base_uri": "https://localhost:8080/"
        },
        "id": "WU0KBE2wAADG",
        "outputId": "98155d6f-5e44-4aef-be85-c133ff4617f6"
      },
      "execution_count": 18,
      "outputs": [
        {
          "output_type": "stream",
          "name": "stdout",
          "text": [
            "Linear Kernel Accuracy: 0.96\n",
            "Poly Kernel Accuracy: 0.94\n",
            "Rbf Kernel Accuracy: 0.94\n"
          ]
        }
      ]
    },
    {
      "cell_type": "code",
      "source": [
        "# 38. Write a Python program to train an SVM Classifier using Stratified K-Fold Cross-Validation and compute the average accuracy.\n",
        "\n",
        "from sklearn import datasets\n",
        "from sklearn.svm import SVC\n",
        "from sklearn.model_selection import StratifiedKFold, cross_val_score\n",
        "\n",
        "# Load dataset\n",
        "iris = datasets.load_iris()\n",
        "X, y = iris.data, iris.target\n",
        "\n",
        "# Define SVM classifier\n",
        "svm = SVC(kernel='linear', random_state=42)\n",
        "\n",
        "# Stratified K-Fold Cross-Validation\n",
        "skf = StratifiedKFold(n_splits=5, shuffle=True, random_state=42)\n",
        "scores = cross_val_score(svm, X, y, cv=skf)\n",
        "\n",
        "# Average accuracy\n",
        "print(f\"Average accuracy: {scores.mean():.2f}\")\n"
      ],
      "metadata": {
        "colab": {
          "base_uri": "https://localhost:8080/"
        },
        "id": "onC8NE8tALgJ",
        "outputId": "cde717be-43fa-4383-bf71-91dc0cd1fa41"
      },
      "execution_count": 19,
      "outputs": [
        {
          "output_type": "stream",
          "name": "stdout",
          "text": [
            "Average accuracy: 0.99\n"
          ]
        }
      ]
    },
    {
      "cell_type": "code",
      "source": [
        "# 39. Write a Python program to train a Naïve Bayes classifier using different prior probabilities and compare performance.\n",
        "\n",
        "from sklearn import datasets\n",
        "from sklearn.naive_bayes import GaussianNB\n",
        "from sklearn.model_selection import train_test_split\n",
        "from sklearn.metrics import accuracy_score\n",
        "\n",
        "# Load dataset\n",
        "iris = datasets.load_iris()\n",
        "X, y = iris.data, iris.target\n",
        "\n",
        "# Split data\n",
        "X_train, X_test, y_train, y_test = train_test_split(X, y, test_size=0.3, random_state=42)\n",
        "\n",
        "# Train without specifying priors (default: based on training data)\n",
        "gnb_default = GaussianNB()\n",
        "gnb_default.fit(X_train, y_train)\n",
        "y_pred_default = gnb_default.predict(X_test)\n",
        "acc_default = accuracy_score(y_test, y_pred_default)\n",
        "\n",
        "# Train with uniform priors\n",
        "num_classes = len(set(y))\n",
        "uniform_priors = [1/num_classes] * num_classes\n",
        "gnb_uniform = GaussianNB(priors=uniform_priors)\n",
        "gnb_uniform.fit(X_train, y_train)\n",
        "y_pred_uniform = gnb_uniform.predict(X_test)\n",
        "acc_uniform = accuracy_score(y_test, y_pred_uniform)\n",
        "\n",
        "print(f\"Accuracy with default priors: {acc_default:.2f}\")\n",
        "print(f\"Accuracy with uniform priors: {acc_uniform:.2f}\")\n"
      ],
      "metadata": {
        "colab": {
          "base_uri": "https://localhost:8080/"
        },
        "id": "Lre4aVZNAWV7",
        "outputId": "5e81bf20-ec83-4310-8bee-a7633052ea45"
      },
      "execution_count": 20,
      "outputs": [
        {
          "output_type": "stream",
          "name": "stdout",
          "text": [
            "Accuracy with default priors: 0.98\n",
            "Accuracy with uniform priors: 0.98\n"
          ]
        }
      ]
    },
    {
      "cell_type": "code",
      "source": [
        "# 40. Write a Python program to perform Recursive Feature Elimination (RFE) before training an SVM Classifier and compare accuracy.\n",
        "\n",
        "from sklearn import datasets\n",
        "from sklearn.svm import SVC\n",
        "from sklearn.feature_selection import RFE\n",
        "from sklearn.model_selection import train_test_split\n",
        "from sklearn.metrics import accuracy_score\n",
        "\n",
        "# Load dataset\n",
        "iris = datasets.load_iris()\n",
        "X, y = iris.data, iris.target\n",
        "\n",
        "# Split data\n",
        "X_train, X_test, y_train, y_test = train_test_split(X, y, test_size=0.3, random_state=42)\n",
        "\n",
        "# Train SVM without feature selection\n",
        "svm = SVC(kernel='linear', random_state=42)\n",
        "svm.fit(X_train, y_train)\n",
        "y_pred = svm.predict(X_test)\n",
        "acc_without_rfe = accuracy_score(y_test, y_pred)\n",
        "\n",
        "# Recursive Feature Elimination with SVM\n",
        "rfe = RFE(estimator=SVC(kernel='linear'), n_features_to_select=2)\n",
        "X_train_rfe = rfe.fit_transform(X_train, y_train)\n",
        "X_test_rfe = rfe.transform(X_test)\n",
        "\n",
        "svm_rfe = SVC(kernel='linear', random_state=42)\n",
        "svm_rfe.fit(X_train_rfe, y_train)\n",
        "y_pred_rfe = svm_rfe.predict(X_test_rfe)\n",
        "acc_with_rfe = accuracy_score(y_test, y_pred_rfe)\n",
        "\n",
        "print(f\"Accuracy without RFE: {acc_without_rfe:.2f}\")\n",
        "print(f\"Accuracy with RFE: {acc_with_rfe:.2f}\")\n"
      ],
      "metadata": {
        "colab": {
          "base_uri": "https://localhost:8080/"
        },
        "id": "a9ZiSqSmAjC0",
        "outputId": "1e677fcc-515c-4bed-d038-590ed23f9d44"
      },
      "execution_count": 21,
      "outputs": [
        {
          "output_type": "stream",
          "name": "stdout",
          "text": [
            "Accuracy without RFE: 1.00\n",
            "Accuracy with RFE: 1.00\n"
          ]
        }
      ]
    },
    {
      "cell_type": "code",
      "source": [
        "# 41. Write a Python program to train an SVM Classifier and evaluate its performance using Precision, Recall, and F1-Score instead of accuracy.\n",
        "\n",
        "from sklearn import datasets\n",
        "from sklearn.model_selection import train_test_split\n",
        "from sklearn.svm import SVC\n",
        "from sklearn.metrics import precision_score, recall_score, f1_score\n",
        "\n",
        "# Load dataset\n",
        "iris = datasets.load_iris()\n",
        "X, y = iris.data, iris.target\n",
        "\n",
        "# For simplicity, convert to binary classification (class 0 vs rest)\n",
        "y_binary = (y == 0).astype(int)\n",
        "\n",
        "# Split data\n",
        "X_train, X_test, y_train, y_test = train_test_split(X, y_binary, test_size=0.3, random_state=42)\n",
        "\n",
        "# Train SVM classifier\n",
        "svm = SVC(kernel='linear', random_state=42)\n",
        "svm.fit(X_train, y_train)\n",
        "y_pred = svm.predict(X_test)\n",
        "\n",
        "# Evaluate\n",
        "precision = precision_score(y_test, y_pred)\n",
        "recall = recall_score(y_test, y_pred)\n",
        "f1 = f1_score(y_test, y_pred)\n",
        "\n",
        "print(f\"Precision: {precision:.2f}\")\n",
        "print(f\"Recall:    {recall:.2f}\")\n",
        "print(f\"F1-Score:  {f1:.2f}\")\n"
      ],
      "metadata": {
        "colab": {
          "base_uri": "https://localhost:8080/"
        },
        "id": "GnH3vz0LAs8I",
        "outputId": "f8a1b795-8e9c-4c0c-d003-2fa9376b1c72"
      },
      "execution_count": 22,
      "outputs": [
        {
          "output_type": "stream",
          "name": "stdout",
          "text": [
            "Precision: 1.00\n",
            "Recall:    1.00\n",
            "F1-Score:  1.00\n"
          ]
        }
      ]
    },
    {
      "cell_type": "code",
      "source": [
        "# 42. Write a Python program to train a Naïve Bayes Classifier and evaluate its performance using Log Loss (Cross-Entropy Loss).\n",
        "\n",
        "from sklearn import datasets\n",
        "from sklearn.naive_bayes import GaussianNB\n",
        "from sklearn.model_selection import train_test_split\n",
        "from sklearn.metrics import log_loss\n",
        "\n",
        "# Load dataset\n",
        "iris = datasets.load_iris()\n",
        "X, y = iris.data, iris.target\n",
        "\n",
        "# Split data\n",
        "X_train, X_test, y_train, y_test = train_test_split(X, y, test_size=0.3, random_state=42)\n",
        "\n",
        "# Train Naive Bayes classifier\n",
        "gnb = GaussianNB()\n",
        "gnb.fit(X_train, y_train)\n",
        "\n",
        "# Predict class probabilities\n",
        "y_proba = gnb.predict_proba(X_test)\n",
        "\n",
        "# Calculate log loss\n",
        "loss = log_loss(y_test, y_proba)\n",
        "\n",
        "print(f\"Log Loss: {loss:.4f}\")\n"
      ],
      "metadata": {
        "colab": {
          "base_uri": "https://localhost:8080/"
        },
        "id": "YQnWQT5EA6HC",
        "outputId": "cd70ac2d-1458-4120-82d7-f5887582d962"
      },
      "execution_count": 23,
      "outputs": [
        {
          "output_type": "stream",
          "name": "stdout",
          "text": [
            "Log Loss: 0.0490\n"
          ]
        }
      ]
    },
    {
      "cell_type": "code",
      "source": [
        "# 43. Write a Python program to train an SVM Classifier and visualize the Confusion Matrix using seaborn.\n",
        "\n",
        "import seaborn as sns\n",
        "import matplotlib.pyplot as plt\n",
        "from sklearn import datasets\n",
        "from sklearn.model_selection import train_test_split\n",
        "from sklearn.svm import SVC\n",
        "from sklearn.metrics import confusion_matrix\n",
        "\n",
        "# Load dataset\n",
        "iris = datasets.load_iris()\n",
        "X, y = iris.data, iris.target\n",
        "\n",
        "# Split data\n",
        "X_train, X_test, y_train, y_test = train_test_split(X, y, test_size=0.3, random_state=42)\n",
        "\n",
        "# Train SVM classifier\n",
        "svm = SVC(kernel='linear', random_state=42)\n",
        "svm.fit(X_train, y_train)\n",
        "y_pred = svm.predict(X_test)\n",
        "\n",
        "# Compute confusion matrix\n",
        "cm = confusion_matrix(y_test, y_pred)\n",
        "\n",
        "# Plot confusion matrix with seaborn heatmap\n",
        "sns.heatmap(cm, annot=True, fmt='d', cmap='Blues', xticklabels=iris.target_names, yticklabels=iris.target_names)\n",
        "plt.xlabel('Predicted')\n",
        "plt.ylabel('Actual')\n",
        "plt.title('Confusion Matrix - SVM Classifier')\n",
        "plt.show()\n"
      ],
      "metadata": {
        "colab": {
          "base_uri": "https://localhost:8080/",
          "height": 472
        },
        "id": "JoW5QguCBF8H",
        "outputId": "574b88f9-3cce-4588-8774-ebda26ecc36e"
      },
      "execution_count": 24,
      "outputs": [
        {
          "output_type": "display_data",
          "data": {
            "text/plain": [
              "<Figure size 640x480 with 2 Axes>"
            ],
            "image/png": "[encoded data removed]"
          },
          "metadata": {}
        }
      ]
    },
    {
      "cell_type": "code",
      "source": [
        "# 44. Write a Python program to train an SVM Regressor (SVR) and evaluate its performance using Mean Absolute Error (MAE) instead of MSE.\n",
        "\n",
        "from sklearn.datasets import fetch_california_housing\n",
        "from sklearn.model_selection import train_test_split\n",
        "from sklearn.svm import SVR\n",
        "from sklearn.metrics import mean_absolute_error\n",
        "\n",
        "# Load dataset\n",
        "housing = fetch_california_housing()\n",
        "X, y = housing.data, housing.target\n",
        "\n",
        "# Split data\n",
        "X_train, X_test, y_train, y_test = train_test_split(X, y, test_size=0.3, random_state=42)\n",
        "\n",
        "# Train SVR model\n",
        "svr = SVR(kernel='rbf')\n",
        "svr.fit(X_train, y_train)\n",
        "\n",
        "# Predict\n",
        "y_pred = svr.predict(X_test)\n",
        "\n",
        "# Evaluate using MAE\n",
        "mae = mean_absolute_error(y_test, y_pred)\n",
        "print(f\"Mean Absolute Error (MAE): {mae:.4f}\")\n"
      ],
      "metadata": {
        "colab": {
          "base_uri": "https://localhost:8080/"
        },
        "id": "rUXhiW7mBLI9",
        "outputId": "f36922cd-eede-4588-abf2-23d4d906606e"
      },
      "execution_count": 25,
      "outputs": [
        {
          "output_type": "stream",
          "name": "stdout",
          "text": [
            "Mean Absolute Error (MAE): 0.8665\n"
          ]
        }
      ]
    },
    {
      "cell_type": "code",
      "source": [
        "# 45. Write a Python program to train a Naïve Bayes classifier and evaluate its performance using the ROC-AUC score.\n",
        "\n",
        "from sklearn import datasets\n",
        "from sklearn.naive_bayes import GaussianNB\n",
        "from sklearn.model_selection import train_test_split\n",
        "from sklearn.metrics import roc_auc_score\n",
        "from sklearn.preprocessing import label_binarize\n",
        "\n",
        "# Load dataset\n",
        "iris = datasets.load_iris()\n",
        "X, y = iris.data, iris.target\n",
        "\n",
        "# For binary classification, select classes 0 and 1 only\n",
        "binary_filter = y < 2\n",
        "X_binary = X[binary_filter]\n",
        "y_binary = y[binary_filter]\n",
        "\n",
        "# Split data\n",
        "X_train, X_test, y_train, y_test = train_test_split(X_binary, y_binary, test_size=0.3, random_state=42)\n",
        "\n",
        "# Train Naive Bayes classifier\n",
        "gnb = GaussianNB()\n",
        "gnb.fit(X_train, y_train)\n",
        "\n",
        "# Predict probabilities for positive class\n",
        "y_proba = gnb.predict_proba(X_test)[:, 1]\n",
        "\n",
        "# Compute ROC-AUC\n",
        "roc_auc = roc_auc_score(y_test, y_proba)\n",
        "\n",
        "print(f\"ROC-AUC Score: {roc_auc:.4f}\")\n"
      ],
      "metadata": {
        "colab": {
          "base_uri": "https://localhost:8080/"
        },
        "id": "hBZhfHf0BUmw",
        "outputId": "4244d189-353d-49d4-8f02-53b67a7ff83e"
      },
      "execution_count": 26,
      "outputs": [
        {
          "output_type": "stream",
          "name": "stdout",
          "text": [
            "ROC-AUC Score: 1.0000\n"
          ]
        }
      ]
    },
    {
      "cell_type": "code",
      "source": [
        "# 46. Write a Python program to train an SVM Classifier and visualize the Precision-Recall Curve.\n",
        "\n",
        "import matplotlib.pyplot as plt\n",
        "from sklearn import datasets\n",
        "from sklearn.model_selection import train_test_split\n",
        "from sklearn.svm import SVC\n",
        "from sklearn.metrics import precision_recall_curve, average_precision_score\n",
        "\n",
        "# Load dataset\n",
        "iris = datasets.load_iris()\n",
        "X, y = iris.data, iris.target\n",
        "\n",
        "# Binary classification: class 0 vs rest\n",
        "y_binary = (y == 0).astype(int)\n",
        "\n",
        "# Split data\n",
        "X_train, X_test, y_train, y_test = train_test_split(X, y_binary, test_size=0.3, random_state=42)\n",
        "\n",
        "# Train SVM with probability estimates enabled\n",
        "svm = SVC(kernel='linear', probability=True, random_state=42)\n",
        "svm.fit(X_train, y_train)\n",
        "\n",
        "# Predict probabilities for positive class\n",
        "y_scores = svm.predict_proba(X_test)[:, 1]\n",
        "\n",
        "# Compute precision-recall curve\n",
        "precision, recall, _ = precision_recall_curve(y_test, y_scores)\n",
        "avg_precision = average_precision_score(y_test, y_scores)\n",
        "\n",
        "# Plot Precision-Recall curve\n",
        "plt.plot(recall, precision, label=f'AP = {avg_precision:.2f}')\n",
        "plt.xlabel('Recall')\n",
        "plt.ylabel('Precision')\n",
        "plt.title('Precision-Recall Curve - SVM Classifier')\n",
        "plt.legend()\n",
        "plt.show()\n"
      ],
      "metadata": {
        "colab": {
          "base_uri": "https://localhost:8080/",
          "height": 472
        },
        "id": "JVWJQXdGBof4",
        "outputId": "f84d2c18-762b-4d48-beb5-4dec2b7dcfe4"
      },
      "execution_count": 27,
      "outputs": [
        {
          "output_type": "display_data",
          "data": {
            "text/plain": [
              "<Figure size 640x480 with 1 Axes>"
            ],
            "image/png": "[encoded data removed]"
          },
          "metadata": {}
        }
      ]
    },
    {
      "cell_type": "code",
      "source": [],
      "metadata": {
        "id": "r6YFPH01Bt6F"
      },
      "execution_count": null,
      "outputs": []
    }
  ]
}